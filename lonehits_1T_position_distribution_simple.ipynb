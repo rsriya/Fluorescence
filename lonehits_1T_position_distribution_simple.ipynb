{
 "cells": [
  {
   "cell_type": "code",
   "execution_count": 9,
   "id": "a0b843cc-09bd-48b0-9465-4da6a97e170a",
   "metadata": {},
   "outputs": [],
   "source": [
    "import numpy as np\n",
    "import pandas as pd\n",
    "import matplotlib.pyplot as plt\n",
    "from matplotlib import colors\n",
    "from tqdm import tqdm, trange\n",
    "from numba import njit, objmode"
   ]
  },
  {
   "cell_type": "code",
   "execution_count": 2,
   "id": "d9034488",
   "metadata": {},
   "outputs": [],
   "source": [
    "#data_combine = pd.read_hdf('/depot/darkmatter/data/jupyterhub/Amanda/Triggerless_minitrees/180706_1451_lonehit_combined_Aug2020.h5')\n",
    "\n",
    "data_combine = pd.read_hdf('/depot/darkmatter/data/jupyterhub/Amanda/Triggerless_minitrees/180706_1451_lonehit_combined_Nov2022.h5')"
   ]
  },
  {
   "cell_type": "code",
   "execution_count": 7,
   "id": "67dbd335-45bd-406b-a350-a0717e2f0ef8",
   "metadata": {},
   "outputs": [],
   "source": [
    "min_primary_size_PE = 1000 #min size of primary peaks (PE)\n",
    "overlap_cut_time_s = 3e-1 #the time constant for exponential overlap cut, https://xe1t-wiki.lngs.infn.it/doku.php?id=xenon:xenon1t:adepoian:overlapcut_overview\n",
    "overlap_cut_ratio = 0.1 #peaks are only accepted if all previous primary peaks multiplied by (t/drift_time)^(overlap_cut_power) is less than overlap_cut_ratio of the current peak\n",
    "overlap_cut_max_times = 30 #number of time constants to consider previous peaks for overlap cut\n",
    "max_drift_time_s = 2.5e-3 #s\n",
    "edge_time_discard_s = 1 #s, discard the first and last few seconds of data because it is unknown if there's overlap from earlier, and the last few peaks won't have proper trains.\n",
    "SE_gain = 31 #https://xe1t-wiki.lngs.infn.it/doku.php?id=xenon:abby:segain_evolution"
   ]
  },
  {
   "cell_type": "code",
   "execution_count": 12,
   "id": "4b184c6e",
   "metadata": {},
   "outputs": [],
   "source": [
    "df_prim = data_combine.drop_duplicates(['gcenter_time_primary'])\n",
    "df_prim = df_prim.sort_values('gcenter_time')\n",
    "df_prim = df_prim.reset_index(drop=True)\n"
   ]
  },
  {
   "cell_type": "code",
   "execution_count": 25,
   "id": "6833e7a6-8f27-4833-b4c6-d80ad416d33c",
   "metadata": {},
   "outputs": [],
   "source": [
    "### These functions were developed by Juehang Qin\n",
    "\n",
    "@njit\n",
    "def shadow_area(area, delta_times, overlap_cut_time_s):\n",
    "    \"\"\"\n",
    "    Calculates the shadow area of an object with given area and time delay.\n",
    "\n",
    "    Parameters:\n",
    "    area (float): The area of the current peak.\n",
    "    delta_times (float): The time delay between the current peak and subsequent peaks.\n",
    "    overlap_cut_time_s (float, optional): The overlap cut time constant in seconds. Default is `overlap_cut_time_s`.\n",
    "\n",
    "    Returns:\n",
    "    float: The shadow area of the object.\n",
    "\n",
    "    \"\"\"\n",
    "    return area * np.exp(-delta_times / overlap_cut_time_s)\n",
    "\n",
    "@njit\n",
    "def window_loop_func(time_diff_ns, overlap_cut_time_s, overlap_cut_max_times, last_index, current_time, N, primary_times_int):\n",
    "    \"\"\"\n",
    "    This function takes in several parameters including the time difference in nanoseconds, \n",
    "    the overlap cut time in seconds, the maximum allowed overlaps, the last index, the current time,\n",
    "    and the total number of elements. It then iterates through a while loop, incrementing the last index\n",
    "    and updating the time difference until the time difference exceeds the limit set by the overlap cut time \n",
    "    multiplied by the maximum allowed overlaps or the last index becomes greater than or equal to N-2.\n",
    "    The function returns the updated last index and time difference.\n",
    "    \"\"\"\n",
    "    while time_diff_ns * 1e-9 < overlap_cut_time_s * overlap_cut_max_times and last_index < N-2:\n",
    "        last_index += 1\n",
    "        time_diff_ns = primary_times_int[last_index] - current_time\n",
    "    return last_index, time_diff_ns\n",
    "\n",
    "\n",
    "def peaks_to_reject(primary_areas, primary_times_int, overlap_cut_time_s, overlap_cut_max_times, overlap_cut_ratio):\n",
    "    \"\"\"\n",
    "    Reject peaks that overlap with other peaks based on their areas.\n",
    "    \n",
    "    Args:\n",
    "        primary_areas (numpy.ndarray): 1D array of peak areas.\n",
    "        primary_times_int (numpy.ndarray): 1D array of corresponding peak times in nanoseconds.\n",
    "        overlap_cut_time_s (float): Time constant for exponential overlap cut. Default is `overlap_cut_time_s`.\n",
    "        overlap_cut_max_times (int): Number of overlap cut time constants to look for. Default is `overlap_cut_max_times`.\n",
    "        overlap_cut_ratio (float): Ratio of shadow area to primary area that determines if a peak should be rejected. Default is `overlap_cut_ratio`.\n",
    "    \n",
    "    Returns:\n",
    "        numpy.ndarray: 1D array of peak times in nanoseconds that are rejected.\n",
    "    \"\"\"\n",
    "    N = len(primary_areas)\n",
    "    shadow_areas_arr = np.zeros_like(primary_areas)\n",
    "    for i in trange(0, N-1):\n",
    "        current_area = primary_areas[i]\n",
    "        current_time = primary_times_int[i]\n",
    "        last_index = i+1\n",
    "        time_diff_ns = primary_times_int[last_index] - current_time\n",
    "        \n",
    "        last_index, time_diff_ns = window_loop_func(time_diff_ns, overlap_cut_time_s, overlap_cut_max_times, last_index, current_time, N, primary_times_int)\n",
    "        \n",
    "        shadow_areas_arr[i+1: last_index+1] += shadow_area(current_area, (primary_times_int[i+1: last_index+1] - current_time)*1e-9, overlap_cut_time_s=overlap_cut_time_s)\n",
    "    rejection_bool = primary_areas*overlap_cut_ratio < shadow_areas_arr\n",
    "    return np.array(primary_times_int[rejection_bool])\n",
    "\n",
    "def get_windows(primaries, selected_peaks, overlap_cut_time_s, overlap_cut_max_times, overlap_cut_ratio):\n",
    "    \"\"\"\n",
    "    Computes the window lengths for a set of selected primary peaks.\n",
    "\n",
    "    Parameters:\n",
    "    -----------\n",
    "    primaries: pandas.DataFrame\n",
    "        A DataFrame containing all primary peaks.\n",
    "    selected_peaks: pandas.DataFrame\n",
    "        A DataFrame containing the selected primary peaks.\n",
    "    overlap_cut_time_s: float, optional (default: overlap_cut_time_s)\n",
    "        The maximum time overlap between two peaks, in seconds.\n",
    "    overlap_cut_max_times: int, optional (default: overlap_cut_max_times)\n",
    "        The maximum number of overlaps allowed between two peaks.\n",
    "\n",
    "    Returns:\n",
    "    --------\n",
    "    window_lengths: list of floats\n",
    "        A list of window lengths (in seconds) for each peak in selected_peaks.\n",
    "    \"\"\"\n",
    "    window_lengths = []\n",
    "    N = len(selected_peaks)\n",
    "    for row in tqdm(selected_peaks.iterrows(), total=N):\n",
    "        current_time = row[1]['gcenter_time_primary']\n",
    "        current_area = row[1]['area_primary']\n",
    "        primaries_in_shadow = primaries.query('gcenter_time_primary > @current_time and gcenter_time_primary < @current_time + @overlap_cut_time_s*@overlap_cut_max_times*1e9')\n",
    "        delta_times_ns = primaries_in_shadow['gcenter_time_primary'].values - current_time\n",
    "        shadow_areas = shadow_area(current_area, delta_times_ns*1e-9, overlap_cut_time_s=overlap_cut_time_s)\n",
    "        window_end_bool = shadow_areas*overlap_cut_ratio < primaries_in_shadow['area_primary'].values\n",
    "        peaks_outside_window = delta_times_ns[window_end_bool]\n",
    "        if len(peaks_outside_window):\n",
    "            window_lengths.append(np.min(peaks_outside_window)*1e-9)\n",
    "        else:\n",
    "            window_lengths.append(0)\n",
    "    return window_lengths\n",
    "\n",
    "@njit\n",
    "def lone_hit_window_loop_func(data_lone_hits_times, start_time_loop, N_lh, end_time_loop, start_index, end_index):\n",
    "    while data_lone_hits_times[start_index] < start_time_loop and start_index<N_lh-1000:\n",
    "        start_index += 1000\n",
    "    start_index -= 1000\n",
    "    while data_lone_hits_times[end_index] < end_time_loop and start_index<N_lh-1000:\n",
    "        end_index += 1000\n",
    "    return start_index, end_index\n",
    "\n",
    "def get_lone_hit_times(selected_peaks, window_lengths, data_lone_hits):\n",
    "    \"\"\"\n",
    "    Extracts the lone hit times, time differences and primary areas for a given set\n",
    "    of selected peaks and associated window lengths.\n",
    "\n",
    "    Args:\n",
    "    - selected_peaks (pandas.DataFrame): a DataFrame with peak information, including\n",
    "        the 'time' and 'area' columns.\n",
    "    - window_lengths (list-like): a list or array of window lengths, in seconds,\n",
    "        associated with each peak.\n",
    "    - data_lone_hits (pandas.DataFrame): a DataFrame with lone hit information, \n",
    "        including the 'time' column.\n",
    "\n",
    "    Returns:\n",
    "    - tuple: a tuple of three arrays, containing the lone hit times (in seconds), \n",
    "        the time differences with respect to the start of each peak window (in seconds),\n",
    "        and the primary areas associated with each peak. \n",
    "\n",
    "    This function works by iterating over the selected peaks and their associated\n",
    "    windows, finding all lone hits that fall within each window and extracting their \n",
    "    times, time differences and primary areas. The output is returned as a tuple of \n",
    "    arrays, with one entry per lone hit found across all windows.\n",
    "    \"\"\"\n",
    "    i = 0\n",
    "    lone_hit_times = []\n",
    "    lone_hit_dts = []\n",
    "    lone_hit_channel = []\n",
    "    lone_hit_primary_areas = []\n",
    "    lone_hit_primary_times = []\n",
    "    lone_hit_primary_x = []\n",
    "    lone_hit_primary_y = []\n",
    "    N_lh = len(data_lone_hits)\n",
    "    data_lone_hits_times = data_lone_hits['gcenter_time'].values\n",
    "    for row in tqdm(selected_peaks.iterrows(), total=len(selected_peaks)):\n",
    "        start_time_loop = row[1]['gcenter_time_primary']\n",
    "        end_time_loop = row[1]['gcenter_time_primary'] + window_lengths[i]*1e9\n",
    "        start_index = 0\n",
    "        end_index = 0\n",
    "        start_index, end_index = lone_hit_window_loop_func(data_lone_hits_times, start_time_loop, N_lh, end_time_loop, start_index, end_index)\n",
    "        this_loop_lonehits = data_lone_hits.iloc[start_index:end_index].query('gcenter_time < @end_time_loop and gcenter_time > @start_time_loop')\n",
    "        lone_hit_times.extend(this_loop_lonehits['gcenter_time'].values)\n",
    "        lone_hit_dts.extend(this_loop_lonehits['gcenter_time'].values - start_time_loop)\n",
    "        lone_hit_channel.extend(this_loop_lonehits['lone_hit_channel'].values)                \n",
    "        lone_hit_primary_areas.extend([row[1]['area_primary']]*len(this_loop_lonehits))\n",
    "        lone_hit_primary_times.extend([start_time_loop]*len(this_loop_lonehits))\n",
    "        lone_hit_primary_x.extend([row[1]['x_primary']]*len(this_loop_lonehits))\n",
    "        lone_hit_primary_y.extend([row[1]['y_primary']]*len(this_loop_lonehits))\n",
    "        i+=1\n",
    "    return lone_hit_times, lone_hit_dts, lone_hit_primary_areas, lone_hit_primary_x, lone_hit_primary_y,lone_hit_primary_times,lone_hit_channel\n",
    "\n",
    "@njit\n",
    "def histogram_with_weights_innerloop(unique_weights, weights_in_bin):\n",
    "    poisson_numbers = []\n",
    "    for unique_weight in unique_weights:\n",
    "        poisson_numbers.append(np.sum(weights_in_bin == unique_weight))\n",
    "    return poisson_numbers\n",
    "\n",
    "def histogram_with_weights(items, weights, bins):\n",
    "    \"\"\"\n",
    "    Computes a weighted histogram of a set of items with estimated Gaussian errorbars, using a given set of bin edges.\n",
    "\n",
    "    Args:\n",
    "    - items (list-like): a list or array of numerical values to be binned.\n",
    "    - weights (list-like): a list or array of non-negative weights associated with each item.\n",
    "    - bins (list-like): a list or array of bin edges (in seconds), defining the boundaries\n",
    "        of each histogram bin.\n",
    "\n",
    "    Returns:\n",
    "    - tuple: a tuple of two arrays, containing the weighted histogram and the corresponding\n",
    "        errors for each bin.\n",
    "\n",
    "    This function works by first computing the bin number for each item, based on its value\n",
    "    and the bin edges provided. It then groups the items and their corresponding weights by \n",
    "    bin number, and computes a Poisson error estimate for each unique weight value in each bin,\n",
    "    using the number of occurrences of that value. Finally, it normalizes the sum of weights \n",
    "    within each bin by the width of the bin, and returns the resulting weighted histogram\n",
    "    and error estimates as separate arrays.\n",
    "\n",
    "    Note that the input items and the output histogram are assumed to be in units of seconds,\n",
    "    while the input weights are unitless. The function uses numpy arrays and operations for \n",
    "    efficient computation and vectorization.\n",
    "    \"\"\"\n",
    "\n",
    "    N = len(bins) - 1\n",
    "    bin_widths = np.diff(bins)\n",
    "    bin_numbers = np.searchsorted(bins, np.array(items)*1e-9, side='right')-1\n",
    "    weighted_histogram = []\n",
    "    errors = []\n",
    "    for i in trange(0, N):\n",
    "        items_in_bin = items[bin_numbers == i]\n",
    "        weights_in_bin = weights[bin_numbers == i]\n",
    "        unique_weights = np.unique(weights_in_bin)\n",
    "        poisson_numbers = histogram_with_weights_innerloop(unique_weights, weights_in_bin)\n",
    "        error = np.sqrt(np.sum(poisson_numbers*unique_weights**2))\n",
    "        summed_weights = np.sum(weights_in_bin)\n",
    "        weighted_histogram.append(summed_weights)\n",
    "        errors.append(error)\n",
    "    return np.array(weighted_histogram)/bin_widths, np.array(errors)/bin_widths"
   ]
  },
  {
   "cell_type": "code",
   "execution_count": 16,
   "id": "fd265fea",
   "metadata": {},
   "outputs": [
    {
     "data": {
      "text/plain": [
       "Index(['area', 'area_fraction_top_primary', 'area_primary', 'area_sum_primary',\n",
       "       'center_time', 'dt_primary', 'event_number', 'gcenter_time',\n",
       "       'gcenter_time_primary', 'largest_hit_channel_primary',\n",
       "       'lone_hit_channel', 'run_number', 'type_digit', 'wr_avg_primary',\n",
       "       'x_primary', 'y_primary', 'carea_primary', 'goodness_of_fit_primary'],\n",
       "      dtype='object')"
      ]
     },
     "execution_count": 16,
     "metadata": {},
     "output_type": "execute_result"
    }
   ],
   "source": [
    "df_prim.keys()"
   ]
  },
  {
   "cell_type": "code",
   "execution_count": 17,
   "id": "7f895062-8e81-4581-bccb-70958ccf1043",
   "metadata": {},
   "outputs": [
    {
     "name": "stderr",
     "output_type": "stream",
     "text": [
      "100%|██████████| 107120/107120 [00:04<00:00, 25837.29it/s]\n"
     ]
    }
   ],
   "source": [
    "primaries_for_overlap_cut = df_prim[df_prim['area_primary']>100]\n",
    "rejected_peak_times = peaks_to_reject(primaries_for_overlap_cut['area_primary'].values, primaries_for_overlap_cut['gcenter_time_primary'].values, overlap_cut_time_s=overlap_cut_time_s, overlap_cut_max_times=overlap_cut_max_times, overlap_cut_ratio=overlap_cut_ratio)\n"
   ]
  },
  {
   "cell_type": "code",
   "execution_count": 19,
   "id": "cdedd938-4f26-4dd0-a72a-2e4e3c4fc0d0",
   "metadata": {},
   "outputs": [],
   "source": [
    "del primaries_for_overlap_cut"
   ]
  },
  {
   "cell_type": "code",
   "execution_count": 22,
   "id": "67227e87-34bf-453a-b628-e96d0b38af20",
   "metadata": {},
   "outputs": [
    {
     "name": "stderr",
     "output_type": "stream",
     "text": [
      "100%|██████████| 1188/1188 [00:02<00:00, 420.96it/s]\n",
      "/tmp/ipykernel_3323766/203377941.py:2: SettingWithCopyWarning: \n",
      "A value is trying to be set on a copy of a slice from a DataFrame.\n",
      "Try using .loc[row_indexer,col_indexer] = value instead\n",
      "\n",
      "See the caveats in the documentation: https://pandas.pydata.org/pandas-docs/stable/user_guide/indexing.html#returning-a-view-versus-a-copy\n",
      "  selected_peaks['window_lengths'] = get_windows(df_prim, selected_peaks, overlap_cut_time_s=overlap_cut_time_s, overlap_cut_max_times=overlap_cut_max_times, overlap_cut_ratio=overlap_cut_ratio)\n"
     ]
    }
   ],
   "source": [
    "selected_peaks = df_prim.query('gcenter_time_primary not in @rejected_peak_times and area_primary>@min_primary_size_PE')\n",
    "selected_peaks['window_lengths'] = get_windows(df_prim, selected_peaks, overlap_cut_time_s=overlap_cut_time_s, overlap_cut_max_times=overlap_cut_max_times, overlap_cut_ratio=overlap_cut_ratio)\n"
   ]
  },
  {
   "cell_type": "code",
   "execution_count": 23,
   "id": "8bbff937-d861-412c-8f68-39ef67884476",
   "metadata": {},
   "outputs": [],
   "source": [
    "data_lh = data_combine[data_combine['type_digit']==0]\n",
    "del data_combine"
   ]
  },
  {
   "cell_type": "code",
   "execution_count": 26,
   "id": "2334092c-df3e-4118-b4f0-d09e095c0a08",
   "metadata": {},
   "outputs": [
    {
     "name": "stderr",
     "output_type": "stream",
     "text": [
      "100%|██████████| 1188/1188 [00:02<00:00, 445.67it/s]\n"
     ]
    }
   ],
   "source": [
    "lone_hit_times, lone_hit_dts,lone_hit_primary_areas, lone_hit_primary_x, lone_hit_primary_y,lone_hit_primary_times,lone_hit_channel = get_lone_hit_times(selected_peaks, selected_peaks['window_lengths'].values, data_lh)\n"
   ]
  },
  {
   "cell_type": "code",
   "execution_count": 27,
   "id": "874f247c",
   "metadata": {},
   "outputs": [],
   "source": [
    "del df_prim, data_lh"
   ]
  },
  {
   "cell_type": "code",
   "execution_count": 30,
   "id": "0c042694-205d-4761-a736-8cff5605e86e",
   "metadata": {},
   "outputs": [
    {
     "name": "stderr",
     "output_type": "stream",
     "text": [
      "100%|██████████| 49/49 [00:00<00:00, 73.66it/s]\n"
     ]
    }
   ],
   "source": [
    "sorted_windows = np.sort(selected_peaks['window_lengths']) #sort window lengths\n",
    "window_bins_edges = np.concatenate([[0], sorted_windows]) #define windows bins\n",
    "number_of_overlapping_bins = np.arange(len(window_bins_edges)-1, 0, -1) \n",
    "weights = 1/number_of_overlapping_bins #scale bins\n",
    "\n",
    "lone_hit_weights = weights[np.searchsorted(window_bins_edges, np.array(lone_hit_dts)*1e-9, side='right')-1]\n",
    "histogram_bins = np.logspace(-6, 0.5, 50)\n",
    "log_histogram_bins = np.linspace(-6, 0.5, 50)\n",
    "weighted_hist, hist_errs = histogram_with_weights(np.array(lone_hit_dts), np.array(lone_hit_weights), histogram_bins)"
   ]
  },
  {
   "cell_type": "code",
   "execution_count": 40,
   "id": "18985869-cb80-4c84-8c3c-4bee4924c2ec",
   "metadata": {},
   "outputs": [
    {
     "data": {
      "image/png": "[encoded data removed]",
      "text/plain": [
       "<Figure size 800x600 with 1 Axes>"
      ]
     },
     "metadata": {},
     "output_type": "display_data"
    }
   ],
   "source": [
    "xlim=[1e-3, 0.25]\n",
    "ylim=[1e3, 2e5]\n",
    "error_locations = 10**(log_histogram_bins[:-1] + np.diff(log_histogram_bins)/2) #np.diff\n",
    "fig = plt.figure(figsize=(8,6))\n",
    "ax = fig.add_subplot(111)\n",
    "ax.step(histogram_bins, np.concatenate([weighted_hist, [weighted_hist[-1]]]), where='post') #for bin width\n",
    "ax.errorbar(error_locations, weighted_hist, yerr=hist_errs*5, fmt='none', label='data (5 sigma error bars)')\n",
    "#ax.plot(histogram_bins, 2e3*histogram_bins**(-0.72), label='slope = -0.72')\n",
    "#ax.vlines(x=[max_drift_time_s], ymin=ylim[0], ymax=ylim[1], color='k', linestyle=':')\n",
    "ax.set(xscale='log', yscale='log', xlim=xlim, ylim=ylim, xlabel='$\\Delta t$ (s)', ylabel='Rate (Hz)')\n",
    "plt.axvline(0.002,color='r')\n",
    "plt.axvline(0.18,color='r')\n",
    "plt.axhline(2.1*10**3,color='red')\n",
    "plt.axhline(10**3*0.9,color='orange')\n",
    "#ax.legend()\n",
    "plt.savefig('single-photon train.png')\n",
    "plt.show()"
   ]
  },
  {
   "cell_type": "code",
   "execution_count": 41,
   "id": "da6a0e71-92c9-463c-bd48-d7a631ccd80e",
   "metadata": {},
   "outputs": [],
   "source": [
    "dfs = pd.DataFrame({\n",
    "            'lone_hit_channel': lone_hit_channel,\n",
    "            'lone_hit_dt':lone_hit_dts,\n",
    "            'primary_x': lone_hit_primary_x,\n",
    "            'primary_y': lone_hit_primary_y\n",
    "        })"
   ]
  },
  {
   "cell_type": "code",
   "execution_count": 42,
   "id": "c235e7ca-fdac-4d83-93c2-a9d774bf0dd2",
   "metadata": {},
   "outputs": [],
   "source": [
    "dfs = dfs[(dfs['lone_hit_dt']*1e-9>0.002)&(dfs['lone_hit_dt']*1e-9<0.18)]\n"
   ]
  },
  {
   "cell_type": "markdown",
   "id": "2d2f032a",
   "metadata": {},
   "source": [
    "## Lonehits position"
   ]
  },
  {
   "cell_type": "code",
   "execution_count": 43,
   "id": "c5920029-4c52-4c1b-a7a9-3a1497e39963",
   "metadata": {},
   "outputs": [],
   "source": [
    "PMT_distance_top = 7.95  # cm\n",
    "PMT_distance_bottom = 8.0  # cm\n",
    "PMTOuterRingRadius = 3.875  # cm\n",
    "\n",
    "def get_pmt_positions_top(number):\n",
    "    array = [i*6 for i in range(7)]\n",
    "    array[0] = 1\n",
    "    radius = [i*PMT_distance_top for i in range(7)]\n",
    "    \n",
    "    index1 = 0\n",
    "    iTotal = array[0]\n",
    "    while number > iTotal:\n",
    "        index1 += 1\n",
    "        iTotal += array[index1]\n",
    "\n",
    "    index2 = number + array[index1] - iTotal\n",
    "    \n",
    "    x = radius[index1] * np.cos(index2*np.pi*2 / array[index1])\n",
    "    y = radius[index1] * np.sin(index2*np.pi*2 / array[index1])\n",
    "    return x, y\n",
    "\n",
    "def get_pmt_positions_bottom(number):\n",
    "    row_distance = np.sqrt(3.)/2. * PMT_distance_bottom\n",
    "    n_rows = 13;\n",
    "    n_pmts_top = 127\n",
    "    \n",
    "    array = [5, 8, 9, 10, 11, 12, 11, 12, 11, 10, 9, 8, 5]\n",
    "    PMTsRowOffset = []\n",
    "    \n",
    "    for i in range(n_rows):\n",
    "        PMTsRowOffset.append(-0.5*(array[i]-1)*PMT_distance_bottom)\n",
    "\n",
    "    index1 = 0\n",
    "    iTotal = array[0]\n",
    "    while number > n_pmts_top+iTotal:\n",
    "        index1 += 1\n",
    "        iTotal += array[index1]\n",
    "  \n",
    "    index2 = number + array[index1] - iTotal -(n_pmts_top+1)\n",
    "  \n",
    "    x = PMTsRowOffset[index1] + (index2 * PMT_distance_bottom)\n",
    "    y = ((0.5*(n_rows-1)-index1) * row_distance);\n",
    "    return x, y\n",
    "\n",
    "# rotate tuple over certain angle\n",
    "def rotate(pos, angle):\n",
    "    return (pos[0]*np.cos(angle) -pos[1]*np.sin(angle), pos[0]*np.sin(angle) + pos[1]*np.cos(angle))"
   ]
  },
  {
   "cell_type": "code",
   "execution_count": 44,
   "id": "fe89a1b8-6b2c-4e56-a8af-f1b0fd788c5f",
   "metadata": {},
   "outputs": [],
   "source": [
    "positions_top = np.array([get_pmt_positions_top(i) for i in range(1, 128)])\n",
    "# The rotation made is one quarter plus 1.5 PMT (so that pmts 1 and 2 are horizontal and pmts 10 and 11 are vertical)\n",
    "rotation_angle_top = np.pi/2 + (3/72)*2*np.pi  # Is this the correct rotation?\n",
    "positions_top = np.array([rotate(pos, rotation_angle_top) for pos in positions_top])\n",
    "\n",
    "xs_top = positions_top[:,0]\n",
    "ys_top = positions_top[:,1]"
   ]
  },
  {
   "cell_type": "code",
   "execution_count": 45,
   "id": "31817c92-a97f-4477-8a9f-81acf447d0e7",
   "metadata": {},
   "outputs": [],
   "source": [
    "positions_bottom = np.array([get_pmt_positions_bottom(i) for i in range(128, 121+127+1)])\n",
    "rotation_angle_bottom = np.pi/8  # Is this the correct rotation?\n",
    "positions_bottom = np.array([rotate(pos, rotation_angle_bottom) for pos in positions_bottom])\n",
    "\n",
    "xs_bottom = positions_bottom[:,0]\n",
    "ys_bottom = positions_bottom[:,1]"
   ]
  },
  {
   "cell_type": "code",
   "execution_count": 46,
   "id": "c4b53bec-2a19-43ba-ae4b-f31f652871ff",
   "metadata": {},
   "outputs": [],
   "source": [
    "positions_combined = np.vstack((positions_top, positions_bottom))\n",
    "channel_to_position = {channel: positions_combined[channel - 1] for channel in range(1, 248)}\n",
    "# Retrieve positions using lone_hit_channel from lh\n",
    "lh_positions = np.array([channel_to_position[channel] for channel in dfs['lone_hit_channel']])\n",
    "\n",
    "# Separate the x and y coordinates\n",
    "dfs['x'] = lh_positions[:, 0]\n",
    "dfs['y'] = lh_positions[:, 1]"
   ]
  },
  {
   "cell_type": "code",
   "execution_count": 48,
   "id": "497ced14-bb37-4664-b122-74a1e73a4c8a",
   "metadata": {},
   "outputs": [],
   "source": [
    "dfs['dr'] = np.sqrt((dfs['x'] - dfs['primary_x'])**2 + (dfs['y'] - dfs['primary_y'])**2)\n",
    "lh_bottom = dfs[dfs['lone_hit_channel']>126]\n",
    "lh_top = dfs[dfs['lone_hit_channel']<127]"
   ]
  },
  {
   "cell_type": "code",
   "execution_count": 50,
   "id": "87df15e9-55f0-4778-96be-f2b346ce50cc",
   "metadata": {},
   "outputs": [
    {
     "data": {
      "image/png": "[encoded data removed]",
      "text/plain": [
       "<Figure size 640x480 with 1 Axes>"
      ]
     },
     "metadata": {},
     "output_type": "display_data"
    }
   ],
   "source": [
    "hist_dot, bins_dot = np.histogram(lh_bottom['dr'], bins=50, density=True)\n",
    "hist_dob, bins_dob = np.histogram(lh_top['dr'] , bins=50, density=True)\n",
    "plt.plot(bins_dot[:-1], hist_dot, drawstyle='steps', label='bottom')\n",
    "plt.plot(bins_dob[:-1], hist_dob, drawstyle='steps', label='top')\n",
    "plt.xlabel('dr[cm]', fontsize=20)\n",
    "plt.title('Top array', fontsize=20)\n",
    "plt.legend(fontsize=20)\n",
    "plt.axvline(30,color='r')\n",
    "#plt.yscale('log')\n",
    "#plt.ylim(0,100)\n",
    "plt.show()"
   ]
  }
 ],
 "metadata": {
  "kernelspec": {
   "display_name": "Dark Python 3.3 (analysis.202310)",
   "language": "python",
   "name": "analysis.202310"
  },
  "language_info": {
   "codemirror_mode": {
    "name": "ipython",
    "version": 3
   },
   "file_extension": ".py",
   "mimetype": "text/x-python",
   "name": "python",
   "nbconvert_exporter": "python",
   "pygments_lexer": "ipython3",
   "version": "3.9.18"
  }
 },
 "nbformat": 4,
 "nbformat_minor": 5
}
